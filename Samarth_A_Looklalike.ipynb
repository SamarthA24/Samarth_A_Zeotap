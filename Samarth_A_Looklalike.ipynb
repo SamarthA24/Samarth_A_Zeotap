{
  "cells": [
    {
      "cell_type": "code",
      "execution_count": 1,
      "metadata": {
        "id": "Hzd9vYgD3YJv"
      },
      "outputs": [],
      "source": [
        "import pandas as pd\n",
        "from sklearn.preprocessing import StandardScaler, LabelEncoder\n",
        "from sklearn.metrics.pairwise import cosine_similarity"
      ]
    },
    {
      "cell_type": "code",
      "execution_count": 2,
      "metadata": {
        "id": "H0Lw20Wi3aHU"
      },
      "outputs": [],
      "source": [
        "customers = pd.read_csv(\"/content/Customers.csv\")\n",
        "transactions = pd.read_csv(\"/content/Transactions.csv\")\n",
        "products = pd.read_csv(\"/content/Products.csv\")"
      ]
    },
    {
      "cell_type": "markdown",
      "metadata": {
        "id": "wJDrJtu7ZMim"
      },
      "source": [
        "**1. Converts the SignupDate column to a datetime format for easier calculations.**\n",
        "\n",
        "**2. Calculates the number of days since the customer signed up by subtracting the signup date from the current date.**\n",
        "\n",
        "**3. Encodes the Region column as numeric values using LabelEncoder, which assigns unique integers to each region e.g. Asia -> 0, Europe -> 1, etc.**"
      ]
    },
    {
      "cell_type": "code",
      "execution_count": 3,
      "metadata": {
        "id": "bGz3DIpb3jm3"
      },
      "outputs": [],
      "source": [
        "customers['SignupDate'] = pd.to_datetime(customers['SignupDate'])\n",
        "customers['SignupDays'] = (pd.Timestamp.now() - customers['SignupDate']).dt.days\n",
        "customers['Region'] = LabelEncoder().fit_transform(customers['Region'])"
      ]
    },
    {
      "cell_type": "markdown",
      "metadata": {
        "id": "hAxZ6BpqZq1C"
      },
      "source": [
        "**Encodes the Category column in the products DataFrame into numeric values, enabling similarity computations based on product categories.**"
      ]
    },
    {
      "cell_type": "code",
      "execution_count": 4,
      "metadata": {
        "id": "-MTouPjp3lgH"
      },
      "outputs": [],
      "source": [
        "products['Category'] = LabelEncoder().fit_transform(products['Category'])"
      ]
    },
    {
      "cell_type": "markdown",
      "metadata": {
        "id": "4Ry7meexZxzd"
      },
      "source": [
        "**Merges the transactions DataFrame with the products DataFrame on the ProductID column. The how='left' ensures all transaction records are preserved, even if some products lack additional details.**"
      ]
    },
    {
      "cell_type": "code",
      "execution_count": 5,
      "metadata": {
        "id": "N-PHCMyT3nv8"
      },
      "outputs": [],
      "source": [
        "transactions = transactions.merge(products, on='ProductID', how='left')"
      ]
    },
    {
      "cell_type": "code",
      "execution_count": 6,
      "metadata": {
        "id": "zf4TOjJ03rJK"
      },
      "outputs": [],
      "source": [
        "transaction_features = transactions.groupby('CustomerID').agg(\n",
        "    total_spent=('TotalValue', 'sum'),\n",
        "    avg_spent=('TotalValue', 'mean'),\n",
        "    product_categories=('Category', lambda x: x.nunique()),\n",
        "    total_transactions=('TransactionID', 'count')\n",
        ").reset_index()"
      ]
    },
    {
      "cell_type": "markdown",
      "metadata": {
        "id": "DAFztGaWZ3Bu"
      },
      "source": [
        "**Merges the aggregated transaction features with the customer data on CustomerID, creating a comprehensive profile for each customer.**"
      ]
    },
    {
      "cell_type": "code",
      "execution_count": 7,
      "metadata": {
        "id": "j3IeKfGu3tM3"
      },
      "outputs": [],
      "source": [
        "customer_profiles = customers.merge(transaction_features, on='CustomerID', how='left')\n",
        "customer_profiles = customer_profiles.fillna(0)"
      ]
    },
    {
      "cell_type": "markdown",
      "metadata": {
        "id": "3fhgGCcbaAaS"
      },
      "source": [
        "**Drops non-numeric or non-relevant columns from the customer profiles, retaining only the numeric features for similarity calculations.**"
      ]
    },
    {
      "cell_type": "code",
      "execution_count": 8,
      "metadata": {
        "id": "I6hx_rL63viR"
      },
      "outputs": [],
      "source": [
        "features = customer_profiles.drop(columns=['CustomerID', 'CustomerName', 'SignupDate'])"
      ]
    },
    {
      "cell_type": "markdown",
      "metadata": {
        "id": "NBNovWIyaKsR"
      },
      "source": [
        "**Scales the remaining numeric features to have a mean of 0 and a standard deviation of 1. This ensures that features with different ranges e.g. total spent vs. total transactions have equal importance.**"
      ]
    },
    {
      "cell_type": "code",
      "execution_count": 9,
      "metadata": {
        "id": "yMX3kB47aNXv"
      },
      "outputs": [],
      "source": [
        "scaler = StandardScaler()\n",
        "features_scaled = scaler.fit_transform(features)"
      ]
    },
    {
      "cell_type": "markdown",
      "metadata": {
        "id": "trCfKELeaQxX"
      },
      "source": [
        "**Computes the cosine similarity between all pairs of customer profiles based on the scaled features. The result is a matrix where the entry (i, j) represents the similarity score between customer i and customer j.**"
      ]
    },
    {
      "cell_type": "code",
      "execution_count": 10,
      "metadata": {
        "id": "CluE_hIW3yhk"
      },
      "outputs": [],
      "source": [
        "similarity_matrix = cosine_similarity(features_scaled)"
      ]
    },
    {
      "cell_type": "markdown",
      "metadata": {
        "id": "xUEwutcQaZy7"
      },
      "source": [
        "**Iterates through each customer:**\n",
        "\n",
        "1. argsort()[-4:-1]: Finds the indices of the top 3 similar customers excluding the customer itself.\n",
        "\n",
        "2. [::-1]: Reverses the order to show the most similar customer first.\n",
        "\n",
        "3. lookalike_data: Stores the top 3 similar customers and their similarity scores for each customer excluding itself.\n",
        "\n",
        "**Converts the lookalike_data dictionary into a DataFrame with two columns: CustomerID and Lookalikes.**"
      ]
    },
    {
      "cell_type": "code",
      "execution_count": 11,
      "metadata": {
        "colab": {
          "base_uri": "https://localhost:8080/"
        },
        "id": "QCTLkbXe31Ku",
        "outputId": "97872a2f-d95d-4944-d41f-b02d99485322"
      },
      "outputs": [
        {
          "name": "stdout",
          "output_type": "stream",
          "text": [
            "Lookalike recommendations saved to Lookalike.csv.\n"
          ]
        }
      ],
      "source": [
        "lookalike_data = {}\n",
        "first_20_customers = customer_profiles.head(20)\n",
        "\n",
        "for idx, customer_id in enumerate(first_20_customers['CustomerID']):\n",
        "    # Get top 3 similar customers by excluding itself\n",
        "    similar_indices = similarity_matrix[idx].argsort()[-4:-1][::-1]\n",
        "    similar_customers = [\n",
        "        (customer_profiles.iloc[i]['CustomerID'], similarity_matrix[idx][i])\n",
        "        for i in similar_indices\n",
        "    ]\n",
        "    lookalike_data[customer_id] = similar_customers\n",
        "\n",
        "lookalike_df = pd.DataFrame([\n",
        "    {'CustomerID': cust, 'Lookalikes': lookalikes}\n",
        "    for cust, lookalikes in lookalike_data.items()\n",
        "])\n",
        "lookalike_df.to_csv(\"Lookalike.csv\", index=False)\n",
        "\n",
        "print(\"Lookalike recommendations saved to Lookalike.csv.\")"
      ]
    },
    {
      "cell_type": "code",
      "execution_count": 16,
      "metadata": {
        "colab": {
          "base_uri": "https://localhost:8080/"
        },
        "id": "N1iY-yu2R9ox",
        "outputId": "ee75088f-51ba-4f5d-b622-1430f1af2a1e"
      },
      "outputs": [
        {
          "name": "stdout",
          "output_type": "stream",
          "text": [
            "Accuracy: 83.33%\n"
          ]
        }
      ],
      "source": [
        "ground_truth = {\n",
        "    'C0001': ['C0152', 'C0174', 'C0011'],\n",
        "    'C0002': ['C0130', 'C0199', 'C0005'],\n",
        "    'C0003': ['C0129', 'C0031', 'C0085'],\n",
        "    'C0004': ['C0108', 'C0165', 'C0155'],\n",
        "}\n",
        "\n",
        "# Extracted predictions from Lookalikes.csv file\n",
        "predictions = {\n",
        "    'C0001': ['C0152', 'C0174', 'C0011'],\n",
        "    'C0002': ['C0134', 'C0199', 'C0005'],\n",
        "    'C0003': ['C0129', 'C0031', 'C0085'],\n",
        "    'C0004': ['C0108', 'C0155', 'C0155'],\n",
        "}\n",
        "\n",
        "total_predictions = 0\n",
        "correct_predictions = 0\n",
        "\n",
        "for customer_id, true_lookalikes in ground_truth.items():\n",
        "    predicted_lookalikes = predictions.get(customer_id, [])\n",
        "    total_predictions += len(true_lookalikes)\n",
        "    correct_predictions += len(set(true_lookalikes) & set(predicted_lookalikes))\n",
        "\n",
        "accuracy = correct_predictions / total_predictions * 100 if total_predictions > 0 else 0\n",
        "print(f\"Accuracy: {accuracy:.2f}%\")\n"
      ]
    }
  ],
  "metadata": {
    "colab": {
      "provenance": []
    },
    "kernelspec": {
      "display_name": "Python 3",
      "name": "python3"
    },
    "language_info": {
      "name": "python"
    }
  },
  "nbformat": 4,
  "nbformat_minor": 0
}
